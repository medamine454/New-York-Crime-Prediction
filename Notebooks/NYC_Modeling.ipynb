{
  "cells": [
    {
      "cell_type": "code",
      "execution_count": 1,
      "metadata": {
        "colab": {
          "base_uri": "https://localhost:8080/"
        },
        "id": "ji5FDyPiUf2b",
        "outputId": "29e05988-ee7e-4c92-8710-fa863bcec934"
      },
      "outputs": [
        {
          "output_type": "stream",
          "name": "stdout",
          "text": [
            "Mounted at /content/drive\n"
          ]
        }
      ],
      "source": [
        "from google.colab import drive\n",
        "drive.mount('/content/drive')"
      ]
    },
    {
      "cell_type": "code",
      "execution_count": 2,
      "metadata": {
        "id": "_dLYKTbjVAql"
      },
      "outputs": [],
      "source": [
        "# Import numpy, pandas, matpltlib.pyplot, sklearn modules and seaborn\n",
        "import numpy as np\n",
        "import pandas as pd\n",
        "import joblib\n",
        "import re\n",
        "import os\n",
        "from tqdm import tqdm\n",
        "import matplotlib.pyplot as plt\n",
        "import seaborn as sns\n",
        "%matplotlib inline\n",
        "pd.set_option('display.max_rows', 200)\n",
        "pd.set_option('display.max_columns', 200)\n",
        "plt.style.use('ggplot')\n",
        "\n",
        "# Import RandomForestClassifier\n",
        "from sklearn.ensemble import RandomForestClassifier\n",
        "# Import LightGBM Classifier\n",
        "import lightgbm as lgbm\n",
        "# Import XGBoost Classifier\n",
        "from xgboost import XGBClassifier\n",
        "\n",
        "\n",
        "from sklearn.model_selection import train_test_split\n",
        "from sklearn.model_selection import GridSearchCV, RandomizedSearchCV\n",
        "from sklearn.feature_selection import SelectFromModel\n",
        "from sklearn.metrics import classification_report\n",
        "from sklearn.metrics import confusion_matrix\n",
        "from sklearn.metrics import accuracy_score\n",
        "from sklearn.metrics import roc_curve, auc"
      ]
    },
    {
      "cell_type": "code",
      "execution_count": 3,
      "metadata": {
        "colab": {
          "base_uri": "https://localhost:8080/"
        },
        "id": "sF5p0NwDVcmX",
        "outputId": "d0b3b8c3-9a1d-4059-a6f4-8e1562c8df20"
      },
      "outputs": [
        {
          "output_type": "stream",
          "name": "stdout",
          "text": [
            "<class 'pandas.core.frame.DataFrame'>\n",
            "RangeIndex: 6900865 entries, 0 to 6900864\n",
            "Data columns (total 17 columns):\n",
            " #   Column            Dtype  \n",
            "---  ------            -----  \n",
            " 0   Unnamed: 0        int64  \n",
            " 1   ADDR_PCT_CD       float64\n",
            " 2   OFNS_DESC         object \n",
            " 3   CRM_ATPT_CPTD_CD  object \n",
            " 4   LAW_CAT_CD        object \n",
            " 5   BORO_NM           object \n",
            " 6   PREM_TYP_DESC     object \n",
            " 7   Latitude          float64\n",
            " 8   Longitude         float64\n",
            " 9   VIC_AGE_GROUP     object \n",
            " 10  VIC_RACE          object \n",
            " 11  VIC_SEX           object \n",
            " 12  year              int64  \n",
            " 13  month             int64  \n",
            " 14  day               int64  \n",
            " 15  hour              int64  \n",
            " 16  weekday           object \n",
            "dtypes: float64(3), int64(5), object(9)\n",
            "memory usage: 895.0+ MB\n",
            "None\n"
          ]
        }
      ],
      "source": [
        "# Import the data\n",
        "df = pd.read_csv('Data_cleaned_version.csv')\n",
        "print(df.info())"
      ]
    },
    {
      "cell_type": "code",
      "execution_count": 4,
      "metadata": {
        "id": "IJ-_y9HBo8zY"
      },
      "outputs": [],
      "source": [
        "del df['Unnamed: 0']"
      ]
    },
    {
      "cell_type": "code",
      "execution_count": null,
      "metadata": {
        "colab": {
          "base_uri": "https://localhost:8080/",
          "height": 800
        },
        "id": "XKGL8J9fpKZA",
        "outputId": "5d93baba-b5fe-4110-a0f3-d997528ef705"
      },
      "outputs": [
        {
          "output_type": "execute_result",
          "data": {
            "text/plain": [
              "         ADDR_PCT_CD                     OFNS_DESC CRM_ATPT_CPTD_CD  \\\n",
              "0               81.0  ASSAULT 3 & RELATED OFFENSES        COMPLETED   \n",
              "1              121.0                 GRAND LARCENY        COMPLETED   \n",
              "2               41.0                 GRAND LARCENY        COMPLETED   \n",
              "3               46.0                 PETIT LARCENY        COMPLETED   \n",
              "4              109.0  ASSAULT 3 & RELATED OFFENSES        COMPLETED   \n",
              "...              ...                           ...              ...   \n",
              "6900860         61.0                 GRAND LARCENY        COMPLETED   \n",
              "6900861         28.0                 PETIT LARCENY        COMPLETED   \n",
              "6900862         70.0  ASSAULT 3 & RELATED OFFENSES        COMPLETED   \n",
              "6900863         90.0                 PETIT LARCENY        COMPLETED   \n",
              "6900864         73.0  ASSAULT 3 & RELATED OFFENSES        COMPLETED   \n",
              "\n",
              "          LAW_CAT_CD        BORO_NM               PREM_TYP_DESC   Latitude  \\\n",
              "0        MISDEMEANOR       BROOKLYN                      STREET  40.685041   \n",
              "1             FELONY  STATEN ISLAND                      STREET  40.636991   \n",
              "2             FELONY          BRONX                      STREET  40.823876   \n",
              "3        MISDEMEANOR          BRONX                      STREET  40.845707   \n",
              "4        MISDEMEANOR         QUEENS                      STREET  40.763992   \n",
              "...              ...            ...                         ...        ...   \n",
              "6900860       FELONY       BROOKLYN      RESIDENCE - APT. HOUSE  40.583360   \n",
              "6900861  MISDEMEANOR      MANHATTAN         COMMERCIAL BUILDING  40.808374   \n",
              "6900862  MISDEMEANOR       BROOKLYN                      STREET  40.648648   \n",
              "6900863  MISDEMEANOR       BROOKLYN                      STREET  40.716045   \n",
              "6900864  MISDEMEANOR       BROOKLYN  RESIDENCE - PUBLIC HOUSING  40.667573   \n",
              "\n",
              "         Longitude VIC_AGE_GROUP        VIC_RACE  VIC_SEX  year  month  day  \\\n",
              "0       -73.921777         25-44           WHITE        F  2014      9    4   \n",
              "1       -74.134093         45-64  WHITE HISPANIC        F  2016     10   12   \n",
              "2       -73.891863         45-64  WHITE HISPANIC        F  2012      9   28   \n",
              "3       -73.910398           <18  WHITE HISPANIC        F  2015      3   24   \n",
              "4       -73.828426         25-44           BLACK        M  2017      5   20   \n",
              "...            ...           ...             ...      ...   ...    ...  ...   \n",
              "6900860 -73.951446         25-44           WHITE        F  2013      3   13   \n",
              "6900861 -73.946886       UNKNOWN         UNKNOWN  UNKNOWN  2014      9   12   \n",
              "6900862 -73.967731         25-44           BLACK        F  2012     12   20   \n",
              "6900863 -73.964163         45-64           WHITE        M  2013      4    4   \n",
              "6900864 -73.907296         25-44           BLACK        F  2012      8   19   \n",
              "\n",
              "         hour    weekday  \n",
              "0          17   Thursday  \n",
              "1           7  Wednesday  \n",
              "2          13     Friday  \n",
              "3          15    Tuesday  \n",
              "4           4   Saturday  \n",
              "...       ...        ...  \n",
              "6900860    12  Wednesday  \n",
              "6900861    17     Friday  \n",
              "6900862    13   Thursday  \n",
              "6900863    13   Thursday  \n",
              "6900864     1     Sunday  \n",
              "\n",
              "[6900865 rows x 16 columns]"
            ],
            "text/html": [
              "\n",
              "  <div id=\"df-50fb2557-27f8-4c07-aff7-65ccd4806e4c\">\n",
              "    <div class=\"colab-df-container\">\n",
              "      <div>\n",
              "<style scoped>\n",
              "    .dataframe tbody tr th:only-of-type {\n",
              "        vertical-align: middle;\n",
              "    }\n",
              "\n",
              "    .dataframe tbody tr th {\n",
              "        vertical-align: top;\n",
              "    }\n",
              "\n",
              "    .dataframe thead th {\n",
              "        text-align: right;\n",
              "    }\n",
              "</style>\n",
              "<table border=\"1\" class=\"dataframe\">\n",
              "  <thead>\n",
              "    <tr style=\"text-align: right;\">\n",
              "      <th></th>\n",
              "      <th>ADDR_PCT_CD</th>\n",
              "      <th>OFNS_DESC</th>\n",
              "      <th>CRM_ATPT_CPTD_CD</th>\n",
              "      <th>LAW_CAT_CD</th>\n",
              "      <th>BORO_NM</th>\n",
              "      <th>PREM_TYP_DESC</th>\n",
              "      <th>Latitude</th>\n",
              "      <th>Longitude</th>\n",
              "      <th>VIC_AGE_GROUP</th>\n",
              "      <th>VIC_RACE</th>\n",
              "      <th>VIC_SEX</th>\n",
              "      <th>year</th>\n",
              "      <th>month</th>\n",
              "      <th>day</th>\n",
              "      <th>hour</th>\n",
              "      <th>weekday</th>\n",
              "    </tr>\n",
              "  </thead>\n",
              "  <tbody>\n",
              "    <tr>\n",
              "      <th>0</th>\n",
              "      <td>81.0</td>\n",
              "      <td>ASSAULT 3 &amp; RELATED OFFENSES</td>\n",
              "      <td>COMPLETED</td>\n",
              "      <td>MISDEMEANOR</td>\n",
              "      <td>BROOKLYN</td>\n",
              "      <td>STREET</td>\n",
              "      <td>40.685041</td>\n",
              "      <td>-73.921777</td>\n",
              "      <td>25-44</td>\n",
              "      <td>WHITE</td>\n",
              "      <td>F</td>\n",
              "      <td>2014</td>\n",
              "      <td>9</td>\n",
              "      <td>4</td>\n",
              "      <td>17</td>\n",
              "      <td>Thursday</td>\n",
              "    </tr>\n",
              "    <tr>\n",
              "      <th>1</th>\n",
              "      <td>121.0</td>\n",
              "      <td>GRAND LARCENY</td>\n",
              "      <td>COMPLETED</td>\n",
              "      <td>FELONY</td>\n",
              "      <td>STATEN ISLAND</td>\n",
              "      <td>STREET</td>\n",
              "      <td>40.636991</td>\n",
              "      <td>-74.134093</td>\n",
              "      <td>45-64</td>\n",
              "      <td>WHITE HISPANIC</td>\n",
              "      <td>F</td>\n",
              "      <td>2016</td>\n",
              "      <td>10</td>\n",
              "      <td>12</td>\n",
              "      <td>7</td>\n",
              "      <td>Wednesday</td>\n",
              "    </tr>\n",
              "    <tr>\n",
              "      <th>2</th>\n",
              "      <td>41.0</td>\n",
              "      <td>GRAND LARCENY</td>\n",
              "      <td>COMPLETED</td>\n",
              "      <td>FELONY</td>\n",
              "      <td>BRONX</td>\n",
              "      <td>STREET</td>\n",
              "      <td>40.823876</td>\n",
              "      <td>-73.891863</td>\n",
              "      <td>45-64</td>\n",
              "      <td>WHITE HISPANIC</td>\n",
              "      <td>F</td>\n",
              "      <td>2012</td>\n",
              "      <td>9</td>\n",
              "      <td>28</td>\n",
              "      <td>13</td>\n",
              "      <td>Friday</td>\n",
              "    </tr>\n",
              "    <tr>\n",
              "      <th>3</th>\n",
              "      <td>46.0</td>\n",
              "      <td>PETIT LARCENY</td>\n",
              "      <td>COMPLETED</td>\n",
              "      <td>MISDEMEANOR</td>\n",
              "      <td>BRONX</td>\n",
              "      <td>STREET</td>\n",
              "      <td>40.845707</td>\n",
              "      <td>-73.910398</td>\n",
              "      <td>&lt;18</td>\n",
              "      <td>WHITE HISPANIC</td>\n",
              "      <td>F</td>\n",
              "      <td>2015</td>\n",
              "      <td>3</td>\n",
              "      <td>24</td>\n",
              "      <td>15</td>\n",
              "      <td>Tuesday</td>\n",
              "    </tr>\n",
              "    <tr>\n",
              "      <th>4</th>\n",
              "      <td>109.0</td>\n",
              "      <td>ASSAULT 3 &amp; RELATED OFFENSES</td>\n",
              "      <td>COMPLETED</td>\n",
              "      <td>MISDEMEANOR</td>\n",
              "      <td>QUEENS</td>\n",
              "      <td>STREET</td>\n",
              "      <td>40.763992</td>\n",
              "      <td>-73.828426</td>\n",
              "      <td>25-44</td>\n",
              "      <td>BLACK</td>\n",
              "      <td>M</td>\n",
              "      <td>2017</td>\n",
              "      <td>5</td>\n",
              "      <td>20</td>\n",
              "      <td>4</td>\n",
              "      <td>Saturday</td>\n",
              "    </tr>\n",
              "    <tr>\n",
              "      <th>...</th>\n",
              "      <td>...</td>\n",
              "      <td>...</td>\n",
              "      <td>...</td>\n",
              "      <td>...</td>\n",
              "      <td>...</td>\n",
              "      <td>...</td>\n",
              "      <td>...</td>\n",
              "      <td>...</td>\n",
              "      <td>...</td>\n",
              "      <td>...</td>\n",
              "      <td>...</td>\n",
              "      <td>...</td>\n",
              "      <td>...</td>\n",
              "      <td>...</td>\n",
              "      <td>...</td>\n",
              "      <td>...</td>\n",
              "    </tr>\n",
              "    <tr>\n",
              "      <th>6900860</th>\n",
              "      <td>61.0</td>\n",
              "      <td>GRAND LARCENY</td>\n",
              "      <td>COMPLETED</td>\n",
              "      <td>FELONY</td>\n",
              "      <td>BROOKLYN</td>\n",
              "      <td>RESIDENCE - APT. HOUSE</td>\n",
              "      <td>40.583360</td>\n",
              "      <td>-73.951446</td>\n",
              "      <td>25-44</td>\n",
              "      <td>WHITE</td>\n",
              "      <td>F</td>\n",
              "      <td>2013</td>\n",
              "      <td>3</td>\n",
              "      <td>13</td>\n",
              "      <td>12</td>\n",
              "      <td>Wednesday</td>\n",
              "    </tr>\n",
              "    <tr>\n",
              "      <th>6900861</th>\n",
              "      <td>28.0</td>\n",
              "      <td>PETIT LARCENY</td>\n",
              "      <td>COMPLETED</td>\n",
              "      <td>MISDEMEANOR</td>\n",
              "      <td>MANHATTAN</td>\n",
              "      <td>COMMERCIAL BUILDING</td>\n",
              "      <td>40.808374</td>\n",
              "      <td>-73.946886</td>\n",
              "      <td>UNKNOWN</td>\n",
              "      <td>UNKNOWN</td>\n",
              "      <td>UNKNOWN</td>\n",
              "      <td>2014</td>\n",
              "      <td>9</td>\n",
              "      <td>12</td>\n",
              "      <td>17</td>\n",
              "      <td>Friday</td>\n",
              "    </tr>\n",
              "    <tr>\n",
              "      <th>6900862</th>\n",
              "      <td>70.0</td>\n",
              "      <td>ASSAULT 3 &amp; RELATED OFFENSES</td>\n",
              "      <td>COMPLETED</td>\n",
              "      <td>MISDEMEANOR</td>\n",
              "      <td>BROOKLYN</td>\n",
              "      <td>STREET</td>\n",
              "      <td>40.648648</td>\n",
              "      <td>-73.967731</td>\n",
              "      <td>25-44</td>\n",
              "      <td>BLACK</td>\n",
              "      <td>F</td>\n",
              "      <td>2012</td>\n",
              "      <td>12</td>\n",
              "      <td>20</td>\n",
              "      <td>13</td>\n",
              "      <td>Thursday</td>\n",
              "    </tr>\n",
              "    <tr>\n",
              "      <th>6900863</th>\n",
              "      <td>90.0</td>\n",
              "      <td>PETIT LARCENY</td>\n",
              "      <td>COMPLETED</td>\n",
              "      <td>MISDEMEANOR</td>\n",
              "      <td>BROOKLYN</td>\n",
              "      <td>STREET</td>\n",
              "      <td>40.716045</td>\n",
              "      <td>-73.964163</td>\n",
              "      <td>45-64</td>\n",
              "      <td>WHITE</td>\n",
              "      <td>M</td>\n",
              "      <td>2013</td>\n",
              "      <td>4</td>\n",
              "      <td>4</td>\n",
              "      <td>13</td>\n",
              "      <td>Thursday</td>\n",
              "    </tr>\n",
              "    <tr>\n",
              "      <th>6900864</th>\n",
              "      <td>73.0</td>\n",
              "      <td>ASSAULT 3 &amp; RELATED OFFENSES</td>\n",
              "      <td>COMPLETED</td>\n",
              "      <td>MISDEMEANOR</td>\n",
              "      <td>BROOKLYN</td>\n",
              "      <td>RESIDENCE - PUBLIC HOUSING</td>\n",
              "      <td>40.667573</td>\n",
              "      <td>-73.907296</td>\n",
              "      <td>25-44</td>\n",
              "      <td>BLACK</td>\n",
              "      <td>F</td>\n",
              "      <td>2012</td>\n",
              "      <td>8</td>\n",
              "      <td>19</td>\n",
              "      <td>1</td>\n",
              "      <td>Sunday</td>\n",
              "    </tr>\n",
              "  </tbody>\n",
              "</table>\n",
              "<p>6900865 rows × 16 columns</p>\n",
              "</div>\n",
              "      <button class=\"colab-df-convert\" onclick=\"convertToInteractive('df-50fb2557-27f8-4c07-aff7-65ccd4806e4c')\"\n",
              "              title=\"Convert this dataframe to an interactive table.\"\n",
              "              style=\"display:none;\">\n",
              "        \n",
              "  <svg xmlns=\"http://www.w3.org/2000/svg\" height=\"24px\"viewBox=\"0 0 24 24\"\n",
              "       width=\"24px\">\n",
              "    <path d=\"M0 0h24v24H0V0z\" fill=\"none\"/>\n",
              "    <path d=\"M18.56 5.44l.94 2.06.94-2.06 2.06-.94-2.06-.94-.94-2.06-.94 2.06-2.06.94zm-11 1L8.5 8.5l.94-2.06 2.06-.94-2.06-.94L8.5 2.5l-.94 2.06-2.06.94zm10 10l.94 2.06.94-2.06 2.06-.94-2.06-.94-.94-2.06-.94 2.06-2.06.94z\"/><path d=\"M17.41 7.96l-1.37-1.37c-.4-.4-.92-.59-1.43-.59-.52 0-1.04.2-1.43.59L10.3 9.45l-7.72 7.72c-.78.78-.78 2.05 0 2.83L4 21.41c.39.39.9.59 1.41.59.51 0 1.02-.2 1.41-.59l7.78-7.78 2.81-2.81c.8-.78.8-2.07 0-2.86zM5.41 20L4 18.59l7.72-7.72 1.47 1.35L5.41 20z\"/>\n",
              "  </svg>\n",
              "      </button>\n",
              "      \n",
              "  <style>\n",
              "    .colab-df-container {\n",
              "      display:flex;\n",
              "      flex-wrap:wrap;\n",
              "      gap: 12px;\n",
              "    }\n",
              "\n",
              "    .colab-df-convert {\n",
              "      background-color: #E8F0FE;\n",
              "      border: none;\n",
              "      border-radius: 50%;\n",
              "      cursor: pointer;\n",
              "      display: none;\n",
              "      fill: #1967D2;\n",
              "      height: 32px;\n",
              "      padding: 0 0 0 0;\n",
              "      width: 32px;\n",
              "    }\n",
              "\n",
              "    .colab-df-convert:hover {\n",
              "      background-color: #E2EBFA;\n",
              "      box-shadow: 0px 1px 2px rgba(60, 64, 67, 0.3), 0px 1px 3px 1px rgba(60, 64, 67, 0.15);\n",
              "      fill: #174EA6;\n",
              "    }\n",
              "\n",
              "    [theme=dark] .colab-df-convert {\n",
              "      background-color: #3B4455;\n",
              "      fill: #D2E3FC;\n",
              "    }\n",
              "\n",
              "    [theme=dark] .colab-df-convert:hover {\n",
              "      background-color: #434B5C;\n",
              "      box-shadow: 0px 1px 3px 1px rgba(0, 0, 0, 0.15);\n",
              "      filter: drop-shadow(0px 1px 2px rgba(0, 0, 0, 0.3));\n",
              "      fill: #FFFFFF;\n",
              "    }\n",
              "  </style>\n",
              "\n",
              "      <script>\n",
              "        const buttonEl =\n",
              "          document.querySelector('#df-50fb2557-27f8-4c07-aff7-65ccd4806e4c button.colab-df-convert');\n",
              "        buttonEl.style.display =\n",
              "          google.colab.kernel.accessAllowed ? 'block' : 'none';\n",
              "\n",
              "        async function convertToInteractive(key) {\n",
              "          const element = document.querySelector('#df-50fb2557-27f8-4c07-aff7-65ccd4806e4c');\n",
              "          const dataTable =\n",
              "            await google.colab.kernel.invokeFunction('convertToInteractive',\n",
              "                                                     [key], {});\n",
              "          if (!dataTable) return;\n",
              "\n",
              "          const docLinkHtml = 'Like what you see? Visit the ' +\n",
              "            '<a target=\"_blank\" href=https://colab.research.google.com/notebooks/data_table.ipynb>data table notebook</a>'\n",
              "            + ' to learn more about interactive tables.';\n",
              "          element.innerHTML = '';\n",
              "          dataTable['output_type'] = 'display_data';\n",
              "          await google.colab.output.renderOutput(dataTable, element);\n",
              "          const docLink = document.createElement('div');\n",
              "          docLink.innerHTML = docLinkHtml;\n",
              "          element.appendChild(docLink);\n",
              "        }\n",
              "      </script>\n",
              "    </div>\n",
              "  </div>\n",
              "  "
            ]
          },
          "metadata": {},
          "execution_count": 5
        }
      ],
      "source": [
        "df"
      ]
    },
    {
      "cell_type": "code",
      "execution_count": 5,
      "metadata": {
        "colab": {
          "base_uri": "https://localhost:8080/"
        },
        "id": "1H78yGVkVnal",
        "outputId": "26695ce9-d341-4a1b-ca8e-7262d142f376"
      },
      "outputs": [
        {
          "output_type": "execute_result",
          "data": {
            "text/plain": [
              "MISDEMEANOR    3887974\n",
              "FELONY         2124197\n",
              "VIOLATION       888694\n",
              "Name: LAW_CAT_CD, dtype: int64"
            ]
          },
          "metadata": {},
          "execution_count": 5
        }
      ],
      "source": [
        "# Count the number of row in each category\n",
        "df.LAW_CAT_CD.value_counts().sort_values(ascending=False)"
      ]
    },
    {
      "cell_type": "code",
      "execution_count": 6,
      "metadata": {
        "id": "5Y_qm0CeB17p"
      },
      "outputs": [],
      "source": [
        "df.LAW_CAT_CD = df['LAW_CAT_CD'].replace(['FELONY','MISDEMEANOR',\"VIOLATION\"],[2,1,0])"
      ]
    },
    {
      "cell_type": "code",
      "execution_count": 7,
      "metadata": {
        "id": "JCIutK6VpLx8"
      },
      "outputs": [],
      "source": [
        "df['PREM_TYP_DESC'] = df['PREM_TYP_DESC'].replace(['RESIDENCE - APT. HOUSE'], 'Residence_House')"
      ]
    },
    {
      "cell_type": "code",
      "execution_count": 8,
      "metadata": {
        "id": "nfbRsWHOpVI7"
      },
      "outputs": [],
      "source": [
        "df['PREM_TYP_DESC'] = df['PREM_TYP_DESC'].replace(['RESIDENCE - PUBLIC HOUSING'], 'Residence_House')"
      ]
    },
    {
      "cell_type": "code",
      "execution_count": 9,
      "metadata": {
        "id": "ZZCcgpf5pc4T"
      },
      "outputs": [],
      "source": [
        "df['PREM_TYP_DESC'] = df['PREM_TYP_DESC'].replace(['RESIDENCE-HOUSE'], 'Residence_House')"
      ]
    },
    {
      "cell_type": "code",
      "execution_count": 10,
      "metadata": {
        "id": "F8RbQqRUpz10"
      },
      "outputs": [],
      "source": [
        "df['PREM_TYP_DESC'] = df['PREM_TYP_DESC'].replace(['PARK/PLAYGROUND'], 'Park_Street')"
      ]
    },
    {
      "cell_type": "code",
      "execution_count": 11,
      "metadata": {
        "id": "9HG3Uy5Up74D"
      },
      "outputs": [],
      "source": [
        "df['PREM_TYP_DESC'] = df['PREM_TYP_DESC'].replace(['STREET'], 'Park_Street')"
      ]
    },
    {
      "cell_type": "code",
      "execution_count": 12,
      "metadata": {
        "id": "oXODbUSp5-_d"
      },
      "outputs": [],
      "source": [
        "df['PREM_TYP_DESC'] = df['PREM_TYP_DESC'].replace(['RESTAURANT/DINER'], 'COMMERCIAL BUILDING')"
      ]
    },
    {
      "cell_type": "code",
      "execution_count": 13,
      "metadata": {
        "id": "i8MEM7066Izk"
      },
      "outputs": [],
      "source": [
        "df['PREM_TYP_DESC'] = df['PREM_TYP_DESC'].replace(['BAR/NIGHT CLUB'], 'COMMERCIAL BUILDING')"
      ]
    },
    {
      "cell_type": "code",
      "execution_count": 14,
      "metadata": {
        "id": "JknSjncO6NoF"
      },
      "outputs": [],
      "source": [
        "df['PREM_TYP_DESC'] = df['PREM_TYP_DESC'].replace(['FAST FOOD'], 'COMMERCIAL BUILDING')"
      ]
    },
    {
      "cell_type": "code",
      "execution_count": 15,
      "metadata": {
        "id": "jw_VHYzD6cxs"
      },
      "outputs": [],
      "source": [
        "df['PREM_TYP_DESC'] = df['PREM_TYP_DESC'].replace(['CHAIN STORE'], 'COMMERCIAL BUILDING')"
      ]
    },
    {
      "cell_type": "code",
      "execution_count": 16,
      "metadata": {
        "id": "i8V-p9uf6dGL"
      },
      "outputs": [],
      "source": [
        "df['PREM_TYP_DESC'] = df['PREM_TYP_DESC'].replace(['DEPARTMENT STORE'], 'COMMERCIAL BUILDING')"
      ]
    },
    {
      "cell_type": "code",
      "execution_count": 17,
      "metadata": {
        "id": "Ip0g5rXE6hOU"
      },
      "outputs": [],
      "source": [
        "df['PREM_TYP_DESC'] = df['PREM_TYP_DESC'].replace(['GROCERY/BODEGA'], 'COMMERCIAL BUILDING')"
      ]
    },
    {
      "cell_type": "code",
      "execution_count": 18,
      "metadata": {
        "id": "kuJig9Hw6qfN"
      },
      "outputs": [],
      "source": [
        "df['PREM_TYP_DESC'] = df['PREM_TYP_DESC'].replace(['PUBLIC BUILDING'], 'COMMERCIAL BUILDING')"
      ]
    },
    {
      "cell_type": "code",
      "execution_count": 19,
      "metadata": {
        "id": "IkdCrXT36r70"
      },
      "outputs": [],
      "source": [
        "df['PREM_TYP_DESC'] = df['PREM_TYP_DESC'].replace(['CLOTHING/BOUTIQUE'], 'COMMERCIAL BUILDING')"
      ]
    },
    {
      "cell_type": "code",
      "execution_count": 20,
      "metadata": {
        "id": "X68M_QgT6sj3"
      },
      "outputs": [],
      "source": [
        "df['PREM_TYP_DESC'] = df['PREM_TYP_DESC'].replace(['DRUG STORE'], 'COMMERCIAL BUILDING')"
      ]
    },
    {
      "cell_type": "code",
      "execution_count": 21,
      "metadata": {
        "id": "PVSKgHst6tD0"
      },
      "outputs": [],
      "source": [
        "df['PREM_TYP_DESC'] = df['PREM_TYP_DESC'].replace(['FOOD SUPERMARKET'], 'COMMERCIAL BUILDING')"
      ]
    },
    {
      "cell_type": "code",
      "execution_count": 22,
      "metadata": {
        "id": "PG1PT8Sp7D2s"
      },
      "outputs": [],
      "source": [
        "df['PREM_TYP_DESC'] = df['PREM_TYP_DESC'].replace(['SMALL MERCHANT'], 'COMMERCIAL BUILDING')"
      ]
    },
    {
      "cell_type": "code",
      "execution_count": 23,
      "metadata": {
        "id": "a9Yrsjni7EHe"
      },
      "outputs": [],
      "source": [
        "df['PREM_TYP_DESC'] = df['PREM_TYP_DESC'].replace(['STORE UNCLASSIFIED'], 'COMMERCIAL BUILDING')"
      ]
    },
    {
      "cell_type": "code",
      "execution_count": 24,
      "metadata": {
        "colab": {
          "base_uri": "https://localhost:8080/",
          "height": 143
        },
        "id": "XOrGPrj5cNMP",
        "outputId": "505aa27b-3149-4194-845f-2f5d55bdf7b1"
      },
      "outputs": [
        {
          "output_type": "execute_result",
          "data": {
            "text/plain": [
              "                 index  PREM_TYP_DESC\n",
              "0      Residence_House        2667002\n",
              "1          Park_Street        2299576\n",
              "2  COMMERCIAL BUILDING        1009087"
            ],
            "text/html": [
              "\n",
              "  <div id=\"df-82b3594f-2d91-4a27-869a-d79213a50b67\">\n",
              "    <div class=\"colab-df-container\">\n",
              "      <div>\n",
              "<style scoped>\n",
              "    .dataframe tbody tr th:only-of-type {\n",
              "        vertical-align: middle;\n",
              "    }\n",
              "\n",
              "    .dataframe tbody tr th {\n",
              "        vertical-align: top;\n",
              "    }\n",
              "\n",
              "    .dataframe thead th {\n",
              "        text-align: right;\n",
              "    }\n",
              "</style>\n",
              "<table border=\"1\" class=\"dataframe\">\n",
              "  <thead>\n",
              "    <tr style=\"text-align: right;\">\n",
              "      <th></th>\n",
              "      <th>index</th>\n",
              "      <th>PREM_TYP_DESC</th>\n",
              "    </tr>\n",
              "  </thead>\n",
              "  <tbody>\n",
              "    <tr>\n",
              "      <th>0</th>\n",
              "      <td>Residence_House</td>\n",
              "      <td>2667002</td>\n",
              "    </tr>\n",
              "    <tr>\n",
              "      <th>1</th>\n",
              "      <td>Park_Street</td>\n",
              "      <td>2299576</td>\n",
              "    </tr>\n",
              "    <tr>\n",
              "      <th>2</th>\n",
              "      <td>COMMERCIAL BUILDING</td>\n",
              "      <td>1009087</td>\n",
              "    </tr>\n",
              "  </tbody>\n",
              "</table>\n",
              "</div>\n",
              "      <button class=\"colab-df-convert\" onclick=\"convertToInteractive('df-82b3594f-2d91-4a27-869a-d79213a50b67')\"\n",
              "              title=\"Convert this dataframe to an interactive table.\"\n",
              "              style=\"display:none;\">\n",
              "        \n",
              "  <svg xmlns=\"http://www.w3.org/2000/svg\" height=\"24px\"viewBox=\"0 0 24 24\"\n",
              "       width=\"24px\">\n",
              "    <path d=\"M0 0h24v24H0V0z\" fill=\"none\"/>\n",
              "    <path d=\"M18.56 5.44l.94 2.06.94-2.06 2.06-.94-2.06-.94-.94-2.06-.94 2.06-2.06.94zm-11 1L8.5 8.5l.94-2.06 2.06-.94-2.06-.94L8.5 2.5l-.94 2.06-2.06.94zm10 10l.94 2.06.94-2.06 2.06-.94-2.06-.94-.94-2.06-.94 2.06-2.06.94z\"/><path d=\"M17.41 7.96l-1.37-1.37c-.4-.4-.92-.59-1.43-.59-.52 0-1.04.2-1.43.59L10.3 9.45l-7.72 7.72c-.78.78-.78 2.05 0 2.83L4 21.41c.39.39.9.59 1.41.59.51 0 1.02-.2 1.41-.59l7.78-7.78 2.81-2.81c.8-.78.8-2.07 0-2.86zM5.41 20L4 18.59l7.72-7.72 1.47 1.35L5.41 20z\"/>\n",
              "  </svg>\n",
              "      </button>\n",
              "      \n",
              "  <style>\n",
              "    .colab-df-container {\n",
              "      display:flex;\n",
              "      flex-wrap:wrap;\n",
              "      gap: 12px;\n",
              "    }\n",
              "\n",
              "    .colab-df-convert {\n",
              "      background-color: #E8F0FE;\n",
              "      border: none;\n",
              "      border-radius: 50%;\n",
              "      cursor: pointer;\n",
              "      display: none;\n",
              "      fill: #1967D2;\n",
              "      height: 32px;\n",
              "      padding: 0 0 0 0;\n",
              "      width: 32px;\n",
              "    }\n",
              "\n",
              "    .colab-df-convert:hover {\n",
              "      background-color: #E2EBFA;\n",
              "      box-shadow: 0px 1px 2px rgba(60, 64, 67, 0.3), 0px 1px 3px 1px rgba(60, 64, 67, 0.15);\n",
              "      fill: #174EA6;\n",
              "    }\n",
              "\n",
              "    [theme=dark] .colab-df-convert {\n",
              "      background-color: #3B4455;\n",
              "      fill: #D2E3FC;\n",
              "    }\n",
              "\n",
              "    [theme=dark] .colab-df-convert:hover {\n",
              "      background-color: #434B5C;\n",
              "      box-shadow: 0px 1px 3px 1px rgba(0, 0, 0, 0.15);\n",
              "      filter: drop-shadow(0px 1px 2px rgba(0, 0, 0, 0.3));\n",
              "      fill: #FFFFFF;\n",
              "    }\n",
              "  </style>\n",
              "\n",
              "      <script>\n",
              "        const buttonEl =\n",
              "          document.querySelector('#df-82b3594f-2d91-4a27-869a-d79213a50b67 button.colab-df-convert');\n",
              "        buttonEl.style.display =\n",
              "          google.colab.kernel.accessAllowed ? 'block' : 'none';\n",
              "\n",
              "        async function convertToInteractive(key) {\n",
              "          const element = document.querySelector('#df-82b3594f-2d91-4a27-869a-d79213a50b67');\n",
              "          const dataTable =\n",
              "            await google.colab.kernel.invokeFunction('convertToInteractive',\n",
              "                                                     [key], {});\n",
              "          if (!dataTable) return;\n",
              "\n",
              "          const docLinkHtml = 'Like what you see? Visit the ' +\n",
              "            '<a target=\"_blank\" href=https://colab.research.google.com/notebooks/data_table.ipynb>data table notebook</a>'\n",
              "            + ' to learn more about interactive tables.';\n",
              "          element.innerHTML = '';\n",
              "          dataTable['output_type'] = 'display_data';\n",
              "          await google.colab.output.renderOutput(dataTable, element);\n",
              "          const docLink = document.createElement('div');\n",
              "          docLink.innerHTML = docLinkHtml;\n",
              "          element.appendChild(docLink);\n",
              "        }\n",
              "      </script>\n",
              "    </div>\n",
              "  </div>\n",
              "  "
            ]
          },
          "metadata": {},
          "execution_count": 24
        }
      ],
      "source": [
        "temp_prem = df['PREM_TYP_DESC'].value_counts().head(3).reset_index()\n",
        "temp_prem"
      ]
    },
    {
      "cell_type": "code",
      "execution_count": null,
      "metadata": {
        "colab": {
          "base_uri": "https://localhost:8080/"
        },
        "id": "i7GGXEniofOs",
        "outputId": "13f93aa2-be28-41cc-e19e-0299a02458f7"
      },
      "outputs": [
        {
          "data": {
            "text/plain": [
              "array(['Park_Street', 'COMMERCIAL BUILDING', 'Residence_House', 'BANK',\n",
              "       'TRANSIT - NYC SUBWAY', 'SOCIAL CLUB/POLICY',\n",
              "       'TAXI (YELLOW LICENSED)', 'HOSPITAL',\n",
              "       'PARKING LOT/GARAGE (PRIVATE)', 'OTHER', 'GAS STATION',\n",
              "       'PARKING LOT/GARAGE (PUBLIC)', 'CANDY STORE', 'LIQUOR STORE',\n",
              "       'HOTEL/MOTEL', 'ATM', 'PUBLIC SCHOOL', 'BUS (NYC TRANSIT)',\n",
              "       'JEWELRY', 'HIGHWAY/PARKWAY', 'BOOK/CARD', 'VIDEO STORE',\n",
              "       'DOCTOR/DENTIST OFFICE', 'GYM/FITNESS FACILITY',\n",
              "       'CONSTRUCTION SITE', 'CHECK CASHING BUSINESS', 'VARIETY STORE',\n",
              "       'PRIVATE/PAROCHIAL SCHOOL', 'BEAUTY & NAIL SALON', 'CHURCH',\n",
              "       'STORAGE FACILITY', 'SHOE', 'TELECOMM. STORE', 'AIRPORT TERMINAL',\n",
              "       'BRIDGE', 'BUS STOP', 'DRY CLEANER/LAUNDRY', 'TUNNEL',\n",
              "       'TAXI (LIVERY LICENSED)', 'SYNAGOGUE', 'OPEN AREAS (OPEN LOTS)',\n",
              "       'BUS TERMINAL', 'MOSQUE', 'FACTORY/WAREHOUSE', 'MARINA/PIER',\n",
              "       'PHOTO/COPY', 'ABANDONED BUILDING', 'TRANSIT FACILITY (OTHER)',\n",
              "       'BUS (OTHER)', 'FERRY/FERRY TERMINAL', 'CEMETERY',\n",
              "       'OTHER HOUSE OF WORSHIP', 'LOAN COMPANY',\n",
              "       'TAXI/LIVERY (UNLICENSED)', 'MAILBOX OUTSIDE', 'TRAMWAY',\n",
              "       'MAILBOX INSIDE', 'HOMELESS SHELTER', 'DAYCARE FACILITY'],\n",
              "      dtype=object)"
            ]
          },
          "execution_count": 26,
          "metadata": {},
          "output_type": "execute_result"
        }
      ],
      "source": [
        "df['PREM_TYP_DESC'].unique()"
      ]
    },
    {
      "cell_type": "code",
      "execution_count": 25,
      "metadata": {
        "id": "3y0D5k9dgzg8"
      },
      "outputs": [],
      "source": [
        "df = df.loc[df['PREM_TYP_DESC'].isin(temp_prem['index'])]"
      ]
    },
    {
      "cell_type": "code",
      "execution_count": 26,
      "metadata": {
        "colab": {
          "base_uri": "https://localhost:8080/"
        },
        "id": "-odtOO8oWMQ3",
        "outputId": "65deb6a7-cb7b-48dc-aeb2-3fcdd2b740e1"
      },
      "outputs": [
        {
          "output_type": "stream",
          "name": "stderr",
          "text": [
            "<ipython-input-26-175808f8c788>:21: SettingWithCopyWarning: \n",
            "A value is trying to be set on a copy of a slice from a DataFrame.\n",
            "Try using .loc[row_indexer,col_indexer] = value instead\n",
            "\n",
            "See the caveats in the documentation: https://pandas.pydata.org/pandas-docs/stable/user_guide/indexing.html#returning-a-view-versus-a-copy\n",
            "  df[col] = df[col].astype(np.float16)\n",
            "<ipython-input-26-175808f8c788>:12: SettingWithCopyWarning: \n",
            "A value is trying to be set on a copy of a slice from a DataFrame.\n",
            "Try using .loc[row_indexer,col_indexer] = value instead\n",
            "\n",
            "See the caveats in the documentation: https://pandas.pydata.org/pandas-docs/stable/user_guide/indexing.html#returning-a-view-versus-a-copy\n",
            "  df[col] = df[col].astype(np.int8)\n"
          ]
        },
        {
          "output_type": "stream",
          "name": "stdout",
          "text": [
            "Memory usage after optimization is: 478.70 MB\n",
            "Decreased by 38.2%\n"
          ]
        }
      ],
      "source": [
        "# Define a utility function to reduce memory usage by convert the values types\n",
        "def reduce_mem_usage(df, verbose=True):\n",
        "    numerics = ['int16', 'int32', 'int64', 'float16', 'float32', 'float64']\n",
        "    start_mem = df.memory_usage().sum() / 1024**2\n",
        "    for col in df.columns:\n",
        "        col_type = df[col].dtypes\n",
        "        if col_type in numerics:\n",
        "            c_min = df[col].min()\n",
        "            c_max = df[col].max()\n",
        "            if str(col_type)[:3] == 'int':\n",
        "                if c_min > np.iinfo(np.int8).min and c_max < np.iinfo(np.int8).max:\n",
        "                    df[col] = df[col].astype(np.int8)\n",
        "                elif c_min > np.iinfo(np.int16).min and c_max < np.iinfo(np.int16).max:\n",
        "                    df[col] = df[col].astype(np.int16)\n",
        "                elif c_min > np.iinfo(np.int32).min and c_max < np.iinfo(np.int32).max:\n",
        "                    df[col] = df[col].astype(np.int32)\n",
        "                elif c_min > np.iinfo(np.int64).min and c_max < np.iinfo(np.int64).max:\n",
        "                    df[col] = df[col].astype(np.int64)\n",
        "            else:\n",
        "                if c_min > np.finfo(np.float16).min and c_max < np.finfo(np.float16).max:\n",
        "                    df[col] = df[col].astype(np.float16)\n",
        "                elif c_min > np.finfo(np.float32).min and c_max < np.finfo(np.float32).max:\n",
        "                    df[col] = df[col].astype(np.float32)\n",
        "                else:\n",
        "                    df[col] = df[col].astype(np.float64)\n",
        "    end_mem = df.memory_usage().sum() / 1024**2\n",
        "    print('Memory usage after optimization is: {:.2f} MB'.format(end_mem))\n",
        "    print('Decreased by {:.1f}%'.format(100 * (start_mem - end_mem) / start_mem))\n",
        "    return df\n",
        "df = reduce_mem_usage(df)"
      ]
    },
    {
      "cell_type": "code",
      "execution_count": 27,
      "metadata": {
        "colab": {
          "base_uri": "https://localhost:8080/"
        },
        "id": "3I6ovM0N-Onm",
        "outputId": "a45da329-c53d-4074-f44e-09fca95aa3e7"
      },
      "outputs": [
        {
          "output_type": "execute_result",
          "data": {
            "text/plain": [
              "5975665"
            ]
          },
          "metadata": {},
          "execution_count": 27
        }
      ],
      "source": [
        "len(df)"
      ]
    },
    {
      "cell_type": "code",
      "execution_count": 28,
      "metadata": {
        "colab": {
          "base_uri": "https://localhost:8080/",
          "height": 553
        },
        "id": "xSOAKYBfXdYx",
        "outputId": "d5599bff-4c3a-4b9d-8e5b-5706793a062f"
      },
      "outputs": [
        {
          "output_type": "stream",
          "name": "stdout",
          "text": [
            "<class 'pandas.core.frame.DataFrame'>\n",
            "Int64Index: 5975665 entries, 0 to 6900864\n",
            "Data columns (total 13 columns):\n",
            " #   Column         Dtype  \n",
            "---  ------         -----  \n",
            " 0   ADDR_PCT_CD    float16\n",
            " 1   month          int8   \n",
            " 2   day            int8   \n",
            " 3   hour           int8   \n",
            " 4   Latitude       float16\n",
            " 5   Longitude      float16\n",
            " 6   BORO_NM        object \n",
            " 7   weekday        object \n",
            " 8   VIC_AGE_GROUP  object \n",
            " 9   VIC_RACE       object \n",
            " 10  VIC_SEX        object \n",
            " 11  LAW_CAT_CD     int8   \n",
            " 12  PREM_TYP_DESC  object \n",
            "dtypes: float16(3), int8(4), object(6)\n",
            "memory usage: 376.1+ MB\n"
          ]
        },
        {
          "output_type": "execute_result",
          "data": {
            "text/plain": [
              "   ADDR_PCT_CD  month  day  hour  Latitude  Longitude        BORO_NM  \\\n",
              "0         81.0      9    4    17  40.68750   -73.9375       BROOKLYN   \n",
              "1        121.0     10   12     7  40.62500   -74.1250  STATEN ISLAND   \n",
              "2         41.0      9   28    13  40.81250   -73.8750          BRONX   \n",
              "3         46.0      3   24    15  40.84375   -73.9375          BRONX   \n",
              "4        109.0      5   20     4  40.75000   -73.8125         QUEENS   \n",
              "\n",
              "     weekday VIC_AGE_GROUP        VIC_RACE VIC_SEX  LAW_CAT_CD PREM_TYP_DESC  \n",
              "0   Thursday         25-44           WHITE       F           1   Park_Street  \n",
              "1  Wednesday         45-64  WHITE HISPANIC       F           2   Park_Street  \n",
              "2     Friday         45-64  WHITE HISPANIC       F           2   Park_Street  \n",
              "3    Tuesday           <18  WHITE HISPANIC       F           1   Park_Street  \n",
              "4   Saturday         25-44           BLACK       M           1   Park_Street  "
            ],
            "text/html": [
              "\n",
              "  <div id=\"df-9a45670a-cc8a-42e1-aaac-1c7d2fc3f51e\">\n",
              "    <div class=\"colab-df-container\">\n",
              "      <div>\n",
              "<style scoped>\n",
              "    .dataframe tbody tr th:only-of-type {\n",
              "        vertical-align: middle;\n",
              "    }\n",
              "\n",
              "    .dataframe tbody tr th {\n",
              "        vertical-align: top;\n",
              "    }\n",
              "\n",
              "    .dataframe thead th {\n",
              "        text-align: right;\n",
              "    }\n",
              "</style>\n",
              "<table border=\"1\" class=\"dataframe\">\n",
              "  <thead>\n",
              "    <tr style=\"text-align: right;\">\n",
              "      <th></th>\n",
              "      <th>ADDR_PCT_CD</th>\n",
              "      <th>month</th>\n",
              "      <th>day</th>\n",
              "      <th>hour</th>\n",
              "      <th>Latitude</th>\n",
              "      <th>Longitude</th>\n",
              "      <th>BORO_NM</th>\n",
              "      <th>weekday</th>\n",
              "      <th>VIC_AGE_GROUP</th>\n",
              "      <th>VIC_RACE</th>\n",
              "      <th>VIC_SEX</th>\n",
              "      <th>LAW_CAT_CD</th>\n",
              "      <th>PREM_TYP_DESC</th>\n",
              "    </tr>\n",
              "  </thead>\n",
              "  <tbody>\n",
              "    <tr>\n",
              "      <th>0</th>\n",
              "      <td>81.0</td>\n",
              "      <td>9</td>\n",
              "      <td>4</td>\n",
              "      <td>17</td>\n",
              "      <td>40.68750</td>\n",
              "      <td>-73.9375</td>\n",
              "      <td>BROOKLYN</td>\n",
              "      <td>Thursday</td>\n",
              "      <td>25-44</td>\n",
              "      <td>WHITE</td>\n",
              "      <td>F</td>\n",
              "      <td>1</td>\n",
              "      <td>Park_Street</td>\n",
              "    </tr>\n",
              "    <tr>\n",
              "      <th>1</th>\n",
              "      <td>121.0</td>\n",
              "      <td>10</td>\n",
              "      <td>12</td>\n",
              "      <td>7</td>\n",
              "      <td>40.62500</td>\n",
              "      <td>-74.1250</td>\n",
              "      <td>STATEN ISLAND</td>\n",
              "      <td>Wednesday</td>\n",
              "      <td>45-64</td>\n",
              "      <td>WHITE HISPANIC</td>\n",
              "      <td>F</td>\n",
              "      <td>2</td>\n",
              "      <td>Park_Street</td>\n",
              "    </tr>\n",
              "    <tr>\n",
              "      <th>2</th>\n",
              "      <td>41.0</td>\n",
              "      <td>9</td>\n",
              "      <td>28</td>\n",
              "      <td>13</td>\n",
              "      <td>40.81250</td>\n",
              "      <td>-73.8750</td>\n",
              "      <td>BRONX</td>\n",
              "      <td>Friday</td>\n",
              "      <td>45-64</td>\n",
              "      <td>WHITE HISPANIC</td>\n",
              "      <td>F</td>\n",
              "      <td>2</td>\n",
              "      <td>Park_Street</td>\n",
              "    </tr>\n",
              "    <tr>\n",
              "      <th>3</th>\n",
              "      <td>46.0</td>\n",
              "      <td>3</td>\n",
              "      <td>24</td>\n",
              "      <td>15</td>\n",
              "      <td>40.84375</td>\n",
              "      <td>-73.9375</td>\n",
              "      <td>BRONX</td>\n",
              "      <td>Tuesday</td>\n",
              "      <td>&lt;18</td>\n",
              "      <td>WHITE HISPANIC</td>\n",
              "      <td>F</td>\n",
              "      <td>1</td>\n",
              "      <td>Park_Street</td>\n",
              "    </tr>\n",
              "    <tr>\n",
              "      <th>4</th>\n",
              "      <td>109.0</td>\n",
              "      <td>5</td>\n",
              "      <td>20</td>\n",
              "      <td>4</td>\n",
              "      <td>40.75000</td>\n",
              "      <td>-73.8125</td>\n",
              "      <td>QUEENS</td>\n",
              "      <td>Saturday</td>\n",
              "      <td>25-44</td>\n",
              "      <td>BLACK</td>\n",
              "      <td>M</td>\n",
              "      <td>1</td>\n",
              "      <td>Park_Street</td>\n",
              "    </tr>\n",
              "  </tbody>\n",
              "</table>\n",
              "</div>\n",
              "      <button class=\"colab-df-convert\" onclick=\"convertToInteractive('df-9a45670a-cc8a-42e1-aaac-1c7d2fc3f51e')\"\n",
              "              title=\"Convert this dataframe to an interactive table.\"\n",
              "              style=\"display:none;\">\n",
              "        \n",
              "  <svg xmlns=\"http://www.w3.org/2000/svg\" height=\"24px\"viewBox=\"0 0 24 24\"\n",
              "       width=\"24px\">\n",
              "    <path d=\"M0 0h24v24H0V0z\" fill=\"none\"/>\n",
              "    <path d=\"M18.56 5.44l.94 2.06.94-2.06 2.06-.94-2.06-.94-.94-2.06-.94 2.06-2.06.94zm-11 1L8.5 8.5l.94-2.06 2.06-.94-2.06-.94L8.5 2.5l-.94 2.06-2.06.94zm10 10l.94 2.06.94-2.06 2.06-.94-2.06-.94-.94-2.06-.94 2.06-2.06.94z\"/><path d=\"M17.41 7.96l-1.37-1.37c-.4-.4-.92-.59-1.43-.59-.52 0-1.04.2-1.43.59L10.3 9.45l-7.72 7.72c-.78.78-.78 2.05 0 2.83L4 21.41c.39.39.9.59 1.41.59.51 0 1.02-.2 1.41-.59l7.78-7.78 2.81-2.81c.8-.78.8-2.07 0-2.86zM5.41 20L4 18.59l7.72-7.72 1.47 1.35L5.41 20z\"/>\n",
              "  </svg>\n",
              "      </button>\n",
              "      \n",
              "  <style>\n",
              "    .colab-df-container {\n",
              "      display:flex;\n",
              "      flex-wrap:wrap;\n",
              "      gap: 12px;\n",
              "    }\n",
              "\n",
              "    .colab-df-convert {\n",
              "      background-color: #E8F0FE;\n",
              "      border: none;\n",
              "      border-radius: 50%;\n",
              "      cursor: pointer;\n",
              "      display: none;\n",
              "      fill: #1967D2;\n",
              "      height: 32px;\n",
              "      padding: 0 0 0 0;\n",
              "      width: 32px;\n",
              "    }\n",
              "\n",
              "    .colab-df-convert:hover {\n",
              "      background-color: #E2EBFA;\n",
              "      box-shadow: 0px 1px 2px rgba(60, 64, 67, 0.3), 0px 1px 3px 1px rgba(60, 64, 67, 0.15);\n",
              "      fill: #174EA6;\n",
              "    }\n",
              "\n",
              "    [theme=dark] .colab-df-convert {\n",
              "      background-color: #3B4455;\n",
              "      fill: #D2E3FC;\n",
              "    }\n",
              "\n",
              "    [theme=dark] .colab-df-convert:hover {\n",
              "      background-color: #434B5C;\n",
              "      box-shadow: 0px 1px 3px 1px rgba(0, 0, 0, 0.15);\n",
              "      filter: drop-shadow(0px 1px 2px rgba(0, 0, 0, 0.3));\n",
              "      fill: #FFFFFF;\n",
              "    }\n",
              "  </style>\n",
              "\n",
              "      <script>\n",
              "        const buttonEl =\n",
              "          document.querySelector('#df-9a45670a-cc8a-42e1-aaac-1c7d2fc3f51e button.colab-df-convert');\n",
              "        buttonEl.style.display =\n",
              "          google.colab.kernel.accessAllowed ? 'block' : 'none';\n",
              "\n",
              "        async function convertToInteractive(key) {\n",
              "          const element = document.querySelector('#df-9a45670a-cc8a-42e1-aaac-1c7d2fc3f51e');\n",
              "          const dataTable =\n",
              "            await google.colab.kernel.invokeFunction('convertToInteractive',\n",
              "                                                     [key], {});\n",
              "          if (!dataTable) return;\n",
              "\n",
              "          const docLinkHtml = 'Like what you see? Visit the ' +\n",
              "            '<a target=\"_blank\" href=https://colab.research.google.com/notebooks/data_table.ipynb>data table notebook</a>'\n",
              "            + ' to learn more about interactive tables.';\n",
              "          element.innerHTML = '';\n",
              "          dataTable['output_type'] = 'display_data';\n",
              "          await google.colab.output.renderOutput(dataTable, element);\n",
              "          const docLink = document.createElement('div');\n",
              "          docLink.innerHTML = docLinkHtml;\n",
              "          element.appendChild(docLink);\n",
              "        }\n",
              "      </script>\n",
              "    </div>\n",
              "  </div>\n",
              "  "
            ]
          },
          "metadata": {},
          "execution_count": 28
        }
      ],
      "source": [
        "# Set the list of features to include in Machine Learning Model\n",
        "feature_lst= ['ADDR_PCT_CD', 'month', 'day', 'hour','Latitude',\n",
        "       'Longitude', 'BORO_NM',\"weekday\", 'VIC_AGE_GROUP',\n",
        "       'VIC_RACE', 'VIC_SEX','LAW_CAT_CD','PREM_TYP_DESC']\n",
        "\n",
        "df_sel=df[feature_lst].copy()\n",
        "df_sel.info()\n",
        "df_sel.head()"
      ]
    },
    {
      "cell_type": "code",
      "execution_count": 29,
      "metadata": {
        "colab": {
          "base_uri": "https://localhost:8080/"
        },
        "id": "QU8IQ4nWh9da",
        "outputId": "7ab50793-57ad-4c1a-9f34-72da543bf6cb"
      },
      "outputs": [
        {
          "output_type": "execute_result",
          "data": {
            "text/plain": [
              "array(['Park_Street', 'COMMERCIAL BUILDING', 'Residence_House'],\n",
              "      dtype=object)"
            ]
          },
          "metadata": {},
          "execution_count": 29
        }
      ],
      "source": [
        "df_sel['PREM_TYP_DESC'].unique()"
      ]
    },
    {
      "cell_type": "code",
      "execution_count": 30,
      "metadata": {
        "colab": {
          "base_uri": "https://localhost:8080/"
        },
        "id": "FLTzmFrDX4n9",
        "outputId": "968569ec-561e-40fd-c0a5-d927be7de847"
      },
      "outputs": [
        {
          "output_type": "stream",
          "name": "stdout",
          "text": [
            "(5975665, 13)\n"
          ]
        },
        {
          "output_type": "execute_result",
          "data": {
            "text/plain": [
              "1    3387595\n",
              "2    1809451\n",
              "0     778619\n",
              "Name: LAW_CAT_CD, dtype: int64"
            ]
          },
          "metadata": {},
          "execution_count": 30
        }
      ],
      "source": [
        "print(df_sel.shape)\n",
        "# double check that the data is balanced\n",
        "df_sel.LAW_CAT_CD.value_counts().sort_values(ascending=False)"
      ]
    },
    {
      "cell_type": "code",
      "execution_count": 31,
      "metadata": {
        "colab": {
          "base_uri": "https://localhost:8080/"
        },
        "id": "uKO12XPQYnjM",
        "outputId": "113d969a-dd04-48cb-fa81-92f111d08666"
      },
      "outputs": [
        {
          "output_type": "execute_result",
          "data": {
            "text/plain": [
              "Index(['ADDR_PCT_CD', 'month', 'day', 'hour', 'Latitude', 'Longitude',\n",
              "       'BORO_NM', 'weekday', 'VIC_AGE_GROUP', 'VIC_RACE', 'VIC_SEX',\n",
              "       'LAW_CAT_CD', 'PREM_TYP_DESC'],\n",
              "      dtype='object')"
            ]
          },
          "metadata": {},
          "execution_count": 31
        }
      ],
      "source": [
        "df_sel.columns"
      ]
    },
    {
      "cell_type": "code",
      "execution_count": 32,
      "metadata": {
        "colab": {
          "base_uri": "https://localhost:8080/",
          "height": 501
        },
        "id": "RISrdeBKYOQ4",
        "outputId": "965f31bf-b1cc-4e86-fe85-4abd749f3caf"
      },
      "outputs": [
        {
          "output_type": "display_data",
          "data": {
            "text/plain": [
              "<Figure size 1080x576 with 2 Axes>"
            ],
            "image/png": "[encoded data removed]"
          },
          "metadata": {}
        }
      ],
      "source": [
        "# Draw a corrolation matrix of the variables\n",
        "corr = df_sel.corr()\n",
        "\n",
        "plt.figure(figsize = (15,8))\n",
        "sns.heatmap(corr, cmap = \"coolwarm\", linewidth = 2, linecolor = \"white\")\n",
        "plt.title(\"Correlation\")\n",
        "plt.show()"
      ]
    },
    {
      "cell_type": "code",
      "execution_count": 33,
      "metadata": {
        "colab": {
          "base_uri": "https://localhost:8080/"
        },
        "id": "D9XgOTVjYRBW",
        "outputId": "9c12affd-f8c2-4fdb-b5f6-ebbcde5ef2c6"
      },
      "outputs": [
        {
          "output_type": "stream",
          "name": "stdout",
          "text": [
            "<class 'pandas.core.frame.DataFrame'>\n",
            "Int64Index: 5975665 entries, 0 to 6900864\n",
            "Data columns (total 40 columns):\n",
            " #   Column                                   Dtype  \n",
            "---  ------                                   -----  \n",
            " 0   ADDR_PCT_CD                              float16\n",
            " 1   month                                    int8   \n",
            " 2   day                                      int8   \n",
            " 3   hour                                     int8   \n",
            " 4   Latitude                                 float16\n",
            " 5   Longitude                                float16\n",
            " 6   LAW_CAT_CD                               int8   \n",
            " 7   BORO_NM_BRONX                            uint8  \n",
            " 8   BORO_NM_BROOKLYN                         uint8  \n",
            " 9   BORO_NM_MANHATTAN                        uint8  \n",
            " 10  BORO_NM_QUEENS                           uint8  \n",
            " 11  BORO_NM_STATEN ISLAND                    uint8  \n",
            " 12  BORO_NM_UNKNOWN                          uint8  \n",
            " 13  weekday_Friday                           uint8  \n",
            " 14  weekday_Monday                           uint8  \n",
            " 15  weekday_Saturday                         uint8  \n",
            " 16  weekday_Sunday                           uint8  \n",
            " 17  weekday_Thursday                         uint8  \n",
            " 18  weekday_Tuesday                          uint8  \n",
            " 19  weekday_Wednesday                        uint8  \n",
            " 20  VIC_AGE_GROUP_18-24                      uint8  \n",
            " 21  VIC_AGE_GROUP_25-44                      uint8  \n",
            " 22  VIC_AGE_GROUP_45-64                      uint8  \n",
            " 23  VIC_AGE_GROUP_65+                        uint8  \n",
            " 24  VIC_AGE_GROUP_18                         uint8  \n",
            " 25  VIC_AGE_GROUP_UNKNOWN                    uint8  \n",
            " 26  VIC_RACE_AMERICAN INDIAN/ALASKAN NATIVE  uint8  \n",
            " 27  VIC_RACE_ASIAN / PACIFIC ISLANDER        uint8  \n",
            " 28  VIC_RACE_BLACK                           uint8  \n",
            " 29  VIC_RACE_BLACK HISPANIC                  uint8  \n",
            " 30  VIC_RACE_OTHER                           uint8  \n",
            " 31  VIC_RACE_UNKNOWN                         uint8  \n",
            " 32  VIC_RACE_WHITE                           uint8  \n",
            " 33  VIC_RACE_WHITE HISPANIC                  uint8  \n",
            " 34  VIC_SEX_F                                uint8  \n",
            " 35  VIC_SEX_M                                uint8  \n",
            " 36  VIC_SEX_UNKNOWN                          uint8  \n",
            " 37  PREM_TYP_DESC_COMMERCIAL BUILDING        uint8  \n",
            " 38  PREM_TYP_DESC_Park_Street                uint8  \n",
            " 39  PREM_TYP_DESC_Residence_House            uint8  \n",
            "dtypes: float16(3), int8(4), uint8(33)\n",
            "memory usage: 290.6 MB\n"
          ]
        }
      ],
      "source": [
        "# Generate dummies for categorical data\n",
        "df_state_dummy = pd.get_dummies(df_sel)\n",
        "df_state_dummy.columns = df_state_dummy.columns.str.replace('VIC_AGE_GROUP_<18', 'VIC_AGE_GROUP_18')\n",
        "df_state_dummy.info()"
      ]
    },
    {
      "cell_type": "code",
      "execution_count": 34,
      "metadata": {
        "id": "yyZQASEnZADJ"
      },
      "outputs": [],
      "source": [
        "# Assign the data\n",
        "df=df_state_dummy\n",
        "\n",
        "# Set the target for the prediction\n",
        "target='LAW_CAT_CD'\n",
        "\n",
        "# Create arrays for the features and the response variable\n",
        "\n",
        "# set X and y\n",
        "y = df[target]\n",
        "X = df.drop(target, axis=1)"
      ]
    },
    {
      "cell_type": "code",
      "execution_count": 35,
      "metadata": {
        "colab": {
          "base_uri": "https://localhost:8080/"
        },
        "id": "TvOMjIMRZcoh",
        "outputId": "6e87b70e-81bc-49cf-bfe9-65378fb2433d"
      },
      "outputs": [
        {
          "output_type": "execute_result",
          "data": {
            "text/plain": [
              "1    3387595\n",
              "2    1809451\n",
              "0     778619\n",
              "Name: LAW_CAT_CD, dtype: int64"
            ]
          },
          "metadata": {},
          "execution_count": 35
        }
      ],
      "source": [
        "y.unique()\n",
        "y.value_counts()"
      ]
    },
    {
      "cell_type": "code",
      "execution_count": 36,
      "metadata": {
        "id": "zjBgf7RiZc1K"
      },
      "outputs": [],
      "source": [
        "X_train, X_test, y_train, y_test = train_test_split(X, y, test_size=0.2,shuffle=True, random_state=21, stratify=y)"
      ]
    },
    {
      "cell_type": "markdown",
      "metadata": {
        "id": "SIuQoe4ZlDuI"
      },
      "source": [
        "lightgbm"
      ]
    },
    {
      "cell_type": "code",
      "execution_count": 59,
      "metadata": {
        "colab": {
          "base_uri": "https://localhost:8080/"
        },
        "id": "G3_O6bpqlE7_",
        "outputId": "6f3d4279-7390-48c7-f437-6e2222f7655f"
      },
      "outputs": [
        {
          "output_type": "stream",
          "name": "stdout",
          "text": [
            "LightGBM Model accuracy score: 0.5794\n"
          ]
        }
      ],
      "source": [
        "# build the lightgbm model\n",
        "import lightgbm as lgb\n",
        "from sklearn.metrics import precision_score, recall_score, f1_score, accuracy_score\n",
        "\n",
        "clf = lgb.LGBMClassifier()\n",
        "clf.fit(X_train, y_train)\n",
        "\n",
        "# predict the results\n",
        "y_pred=clf.predict(X_test)\n",
        "\n",
        "# view accuracy\n",
        "from sklearn.metrics import accuracy_score\n",
        "accuracy=accuracy_score(y_pred, y_test)\n",
        "print('LightGBM Model accuracy score: {0:0.4f}'.format(accuracy_score(y_test, y_pred)))"
      ]
    },
    {
      "cell_type": "code",
      "execution_count": null,
      "metadata": {
        "colab": {
          "base_uri": "https://localhost:8080/"
        },
        "id": "ZsVLhd_GFeOm",
        "outputId": "23385c83-b3b7-4729-d79e-0661db4fe95e"
      },
      "outputs": [
        {
          "data": {
            "text/plain": [
              "<lightgbm.basic.Booster at 0x7fed9209fe80>"
            ]
          },
          "execution_count": 41,
          "metadata": {},
          "output_type": "execute_result"
        }
      ],
      "source": [
        "clf.booster_.save_model('LightGBM.txt')\n",
        "#Toload\n",
        "#bst = lgb.Booster(model_file='mode.txt')"
      ]
    },
    {
      "cell_type": "code",
      "source": [
        "import lightgbm as lgb\n",
        "bst = lgb.Booster(model_file='LightGBM.txt')"
      ],
      "metadata": {
        "id": "zF4vtKBU0rOh"
      },
      "execution_count": 37,
      "outputs": []
    },
    {
      "cell_type": "code",
      "source": [
        "from sklearn.metrics import accuracy_score"
      ],
      "metadata": {
        "id": "e7Q6kjBz1R-G"
      },
      "execution_count": 38,
      "outputs": []
    },
    {
      "cell_type": "code",
      "source": [
        "y_pred=bst.predict(X_test)"
      ],
      "metadata": {
        "id": "KBwIxRCu1W4u"
      },
      "execution_count": 39,
      "outputs": []
    },
    {
      "cell_type": "markdown",
      "metadata": {
        "id": "PJtW8rnBlCN9"
      },
      "source": [
        "Random forest"
      ]
    },
    {
      "cell_type": "code",
      "execution_count": null,
      "metadata": {
        "colab": {
          "base_uri": "https://localhost:8080/"
        },
        "id": "7cgZyRjCZh--",
        "outputId": "24d70eca-ef10-4f23-8cd7-4253250b97a9"
      },
      "outputs": [
        {
          "name": "stdout",
          "output_type": "stream",
          "text": [
            "[Random forest algorithm] accuracy_score: 0.581.\n"
          ]
        }
      ],
      "source": [
        "#Create a Gaussian Classifier\n",
        "clf=RandomForestClassifier(n_estimators=30, # Number of trees\n",
        "                                  min_samples_split = 20,\n",
        "                                  bootstrap = True, \n",
        "                                  max_depth = 36, \n",
        "                                  min_samples_leaf = 25)\n",
        "\n",
        "#Train the model using the training sets\n",
        "clf.fit(X_train,y_train)\n",
        "y_pred=clf.predict(X_test)\n",
        "\n",
        "# Get the accuracy score\n",
        "acc_rf = accuracy_score(y_test, y_pred)\n",
        "\n",
        "# Get classification report\n",
        "class_report = classification_report(y_test, y_pred)\n",
        "\n",
        "# Model Accuracy, how often is the classifier correct?\n",
        "print(\"[Random forest algorithm] accuracy_score: {:.3f}.\".format(acc_rf))"
      ]
    },
    {
      "cell_type": "code",
      "execution_count": null,
      "metadata": {
        "colab": {
          "base_uri": "https://localhost:8080/"
        },
        "id": "zEcHh9JoHV59",
        "outputId": "60982cc6-fb06-40f3-aa84-4ec65723f20c"
      },
      "outputs": [
        {
          "data": {
            "text/plain": [
              "['/content/drive/MyDrive/Data_Tebourbi/random_forest.joblib']"
            ]
          },
          "execution_count": 43,
          "metadata": {},
          "output_type": "execute_result"
        }
      ],
      "source": [
        "import joblib\n",
        "\n",
        "# save\n",
        "joblib.dump(clf, \"random_forest.joblib\")\n",
        "# load, no need to initialize the loaded_rf\n",
        "#loaded_rf = joblib.load(\"/content/drive/MyDrive/Data_Tebourbi/random_forest.joblib\")"
      ]
    },
    {
      "cell_type": "code",
      "source": [
        "import joblib\n",
        "loaded_rf = joblib.load(\"random_forest.joblib\")"
      ],
      "metadata": {
        "id": "uHCC6ZTx2KtO"
      },
      "execution_count": 54,
      "outputs": []
    },
    {
      "cell_type": "code",
      "source": [
        "y_pred=loaded_rf.predict(X_test)"
      ],
      "metadata": {
        "id": "mE3qgHkP2PuP"
      },
      "execution_count": 55,
      "outputs": []
    },
    {
      "cell_type": "code",
      "source": [
        "# Get the accuracy score\n",
        "acc_rf = accuracy_score(y_test, y_pred)\n",
        "\n",
        "# Get classification report\n",
        "class_report = classification_report(y_test, y_pred)\n",
        "\n",
        "# Model Accuracy, how often is the classifier correct?\n",
        "print(\"[Random forest algorithm] accuracy_score: {:.3f}.\".format(acc_rf))\n",
        "print(class_report)"
      ],
      "metadata": {
        "colab": {
          "base_uri": "https://localhost:8080/"
        },
        "id": "zQNfSD6w2T9P",
        "outputId": "b5458ed5-6271-4300-ce23-051086112481"
      },
      "execution_count": null,
      "outputs": [
        {
          "output_type": "stream",
          "name": "stdout",
          "text": [
            "[Random forest algorithm] accuracy_score: 0.581.\n",
            "              precision    recall  f1-score   support\n",
            "\n",
            "           0       0.39      0.00      0.00    155724\n",
            "           1       0.59      0.93      0.72    677519\n",
            "           2       0.52      0.17      0.26    361890\n",
            "\n",
            "    accuracy                           0.58   1195133\n",
            "   macro avg       0.50      0.37      0.33   1195133\n",
            "weighted avg       0.54      0.58      0.49   1195133\n",
            "\n"
          ]
        }
      ]
    },
    {
      "cell_type": "markdown",
      "metadata": {
        "id": "fj7FO24qHGyV"
      },
      "source": [
        "Decesion Tree_Gini"
      ]
    },
    {
      "cell_type": "code",
      "execution_count": null,
      "metadata": {
        "colab": {
          "base_uri": "https://localhost:8080/"
        },
        "id": "xNs25lwFZniA",
        "outputId": "aa5c0ac7-35dd-4eab-80ea-b6f63e759a26"
      },
      "outputs": [
        {
          "name": "stdout",
          "output_type": "stream",
          "text": [
            "Model accuracy score with criterion gini index: 0.5778\n"
          ]
        }
      ],
      "source": [
        "# import DecisionTreeClassifier\n",
        "\n",
        "from sklearn.tree import DecisionTreeClassifier\n",
        "# instantiate the DecisionTreeClassifier model with criterion gini index\n",
        "\n",
        "clf_gini = DecisionTreeClassifier(criterion='gini', max_depth=12, random_state=0)\n",
        "\n",
        "\n",
        "# fit the model\n",
        "clf_gini.fit(X_train, y_train)\n",
        "y_pred_gini = clf_gini.predict(X_test)\n",
        "from sklearn.metrics import accuracy_score\n",
        "\n",
        "print('Model accuracy score with criterion gini index: {0:0.4f}'. format(accuracy_score(y_test, y_pred_gini)))"
      ]
    },
    {
      "cell_type": "code",
      "execution_count": null,
      "metadata": {
        "colab": {
          "base_uri": "https://localhost:8080/"
        },
        "id": "Y8PKjVj5JIXd",
        "outputId": "6b1e3394-75f2-44c7-9bd2-01057700e810"
      },
      "outputs": [
        {
          "data": {
            "text/plain": [
              "['/content/drive/MyDrive/Data_Tebourbi/decesion_tree_gini.joblib']"
            ]
          },
          "execution_count": 45,
          "metadata": {},
          "output_type": "execute_result"
        }
      ],
      "source": [
        "import joblib\n",
        "\n",
        "# save\n",
        "joblib.dump(clf_gini, \"decesion_tree_gini.joblib\")"
      ]
    },
    {
      "cell_type": "code",
      "source": [
        "loaded_dc = joblib.load(\"decesion_tree_gini.joblib\")\n",
        "y_pred=loaded_dc.predict(X_test)\n",
        "# Get the accuracy score\n",
        "acc_rf = accuracy_score(y_test, y_pred)\n",
        "\n",
        "# Get classification report\n",
        "class_report = classification_report(y_test, y_pred)\n",
        "\n",
        "# Model Accuracy, how often is the classifier correct?\n",
        "print(\"[Random forest algorithm] accuracy_score: {:.3f}.\".format(acc_rf))\n",
        "print(class_report)"
      ],
      "metadata": {
        "colab": {
          "base_uri": "https://localhost:8080/"
        },
        "id": "kVSnY1Ld2im9",
        "outputId": "992a8b0e-ea76-4e14-ca59-34831c0eb79d"
      },
      "execution_count": null,
      "outputs": [
        {
          "output_type": "stream",
          "name": "stdout",
          "text": [
            "[Random forest algorithm] accuracy_score: 0.578.\n",
            "              precision    recall  f1-score   support\n",
            "\n",
            "           0       0.33      0.00      0.01    155724\n",
            "           1       0.59      0.93      0.72    677519\n",
            "           2       0.51      0.16      0.25    361890\n",
            "\n",
            "    accuracy                           0.58   1195133\n",
            "   macro avg       0.47      0.37      0.32   1195133\n",
            "weighted avg       0.53      0.58      0.48   1195133\n",
            "\n"
          ]
        }
      ]
    },
    {
      "cell_type": "code",
      "source": [
        "y_pred[0]"
      ],
      "metadata": {
        "colab": {
          "base_uri": "https://localhost:8080/"
        },
        "id": "KvFCzRbc3BSN",
        "outputId": "07ad9f74-5bdf-4db6-a25e-9172146d9991"
      },
      "execution_count": null,
      "outputs": [
        {
          "output_type": "execute_result",
          "data": {
            "text/plain": [
              "1"
            ]
          },
          "metadata": {},
          "execution_count": 48
        }
      ]
    },
    {
      "cell_type": "markdown",
      "metadata": {
        "id": "3Hrn9w67JrRT"
      },
      "source": [
        "Decesion Tree_Entropy"
      ]
    },
    {
      "cell_type": "code",
      "execution_count": null,
      "metadata": {
        "colab": {
          "base_uri": "https://localhost:8080/"
        },
        "id": "GPzt0JKYHqrc",
        "outputId": "4e5afd1c-f55f-4bd1-a602-3af79fa9abf8"
      },
      "outputs": [
        {
          "name": "stdout",
          "output_type": "stream",
          "text": [
            "Model accuracy score with criterion entropy index: 0.5780\n"
          ]
        }
      ],
      "source": [
        "# instantiate the DecisionTreeClassifier model with criterion entropy\n",
        "\n",
        "clf_en = DecisionTreeClassifier(criterion='entropy', max_depth=13, random_state=0)\n",
        "\n",
        "# fit the model\n",
        "clf_en.fit(X_train, y_train)\n",
        "y_pred_entropy = clf_en.predict(X_test)\n",
        "from sklearn.metrics import accuracy_score\n",
        "\n",
        "print('Model accuracy score with criterion entropy index: {0:0.4f}'. format(accuracy_score(y_test, y_pred_entropy)))"
      ]
    },
    {
      "cell_type": "code",
      "execution_count": null,
      "metadata": {
        "colab": {
          "base_uri": "https://localhost:8080/"
        },
        "id": "itXjuGHEJXmj",
        "outputId": "3a14a8ae-ae55-43c2-bbcc-9118d818b275"
      },
      "outputs": [
        {
          "data": {
            "text/plain": [
              "['/content/drive/MyDrive/Data_Tebourbi/decesion_tree_entropy.joblib']"
            ]
          },
          "execution_count": 47,
          "metadata": {},
          "output_type": "execute_result"
        }
      ],
      "source": [
        "import joblib\n",
        "\n",
        "# save\n",
        "joblib.dump(clf_gini, \"decesion_tree_entropy.joblib\")"
      ]
    },
    {
      "cell_type": "code",
      "source": [
        "loaded_dc = joblib.load(\"decesion_tree_gini.joblib\")\n",
        "y_pred=loaded_dc.predict(X_test)\n",
        "# Get the accuracy score\n",
        "acc_rf = accuracy_score(y_test, y_pred)\n",
        "\n",
        "# Get classification report\n",
        "class_report = classification_report(y_test, y_pred)\n",
        "\n",
        "# Model Accuracy, how often is the classifier correct?\n",
        "print(\"[Random forest algorithm] accuracy_score: {:.3f}.\".format(acc_rf))\n",
        "print(class_report)"
      ],
      "metadata": {
        "id": "H6QUwXEp2-O9"
      },
      "execution_count": null,
      "outputs": []
    },
    {
      "cell_type": "markdown",
      "metadata": {
        "id": "nlBLgyeuLDNr"
      },
      "source": [
        "XGBOOST"
      ]
    },
    {
      "cell_type": "code",
      "execution_count": null,
      "metadata": {
        "id": "7XoLe_qjLbYf"
      },
      "outputs": [],
      "source": [
        "X_train.columns = X_train.columns.str.replace('VIC_AGE_GROUP_<18', 'VIC_AGE_GROUP_18')"
      ]
    },
    {
      "cell_type": "code",
      "execution_count": null,
      "metadata": {
        "id": "uivhIKQ1XO3p"
      },
      "outputs": [],
      "source": [
        "X_test.columns = X_test.columns.str.replace('VIC_AGE_GROUP_<18', 'VIC_AGE_GROUP_18')"
      ]
    },
    {
      "cell_type": "code",
      "execution_count": null,
      "metadata": {
        "colab": {
          "background_save": true,
          "base_uri": "https://localhost:8080/"
        },
        "id": "zzB-Yqi_Ka6w",
        "outputId": "9bc316b1-5a43-4cc3-fb70-3c7bdaa89a00"
      },
      "outputs": [
        {
          "name": "stdout",
          "output_type": "stream",
          "text": [
            "[22:04:59] WARNING: /workspace/src/learner.cc:686: Tree method is automatically selected to be 'approx' for faster speed. To use old behavior (exact greedy algorithm on single machine), set tree_method to 'exact'.\n"
          ]
        },
        {
          "data": {
            "text/plain": [
              "XGBClassifier(objective='multi:softprob')"
            ]
          },
          "execution_count": 50,
          "metadata": {},
          "output_type": "execute_result"
        }
      ],
      "source": [
        "from xgboost import XGBClassifier\n",
        "# Define the model hyperparameters\n",
        "params = {\n",
        "            'objective':'multi:softmax',\n",
        "            'max_depth': 25,\n",
        "            'alpha': 10,\n",
        "            'learning_rate': 0.1,\n",
        "            'n_estimators':25,\n",
        "            'use_label_encoder':False\n",
        "        }\n",
        "\n",
        "# instantiate the classifier \n",
        "#xgb = XGBClassifier(**params)\n",
        "xgb = XGBClassifier()\n",
        "xgb.fit(X_train, y_train)"
      ]
    },
    {
      "cell_type": "code",
      "execution_count": null,
      "metadata": {
        "id": "rl3kEPMIXTEp"
      },
      "outputs": [],
      "source": [
        "preds = xgb.predict(X_test)\n",
        "acc_xgb = (preds == y_test).sum().astype(float) / len(preds)*100\n",
        "print(\"XGBoost's prediction accuracy is: %3.2f\" % (acc_xgb))"
      ]
    },
    {
      "cell_type": "code",
      "execution_count": null,
      "metadata": {
        "id": "lY74R2EomTtX"
      },
      "outputs": [],
      "source": [
        "# save\n",
        "joblib.dump(clf_gini, \"XGBOOST.joblib\")"
      ]
    }
  ],
  "metadata": {
    "accelerator": "GPU",
    "colab": {
      "machine_shape": "hm",
      "provenance": []
    },
    "gpuClass": "premium",
    "kernelspec": {
      "display_name": "Python 3",
      "name": "python3"
    },
    "language_info": {
      "name": "python"
    }
  },
  "nbformat": 4,
  "nbformat_minor": 0
}